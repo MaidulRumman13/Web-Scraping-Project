{
 "cells": [
  {
   "cell_type": "code",
   "execution_count": 36,
   "id": "0e1fc2a8-9298-4c03-b8ef-e5d66d2de9a9",
   "metadata": {},
   "outputs": [],
   "source": [
    "from requests import Request, Session\n",
    "from requests.exceptions import ConnectionError, Timeout, TooManyRedirects\n",
    "import json\n",
    "\n",
    "url = 'https://pro-api.coinmarketcap.com/v1/cryptocurrency/listings/latest'\n",
    "# Original Sandbox Environment: 'https://sandbox-api.coinmarketcap.com/v1/cryptocurrency/listings/latest'\n",
    "parameters = {\n",
    "  'start':'1',\n",
    "  'limit':'5000',\n",
    "  'convert':'USD'\n",
    "}\n",
    "headers = {\n",
    "  'Accepts': 'application/json',\n",
    "  'X-CMC_PRO_API_KEY': 'e4c4dda8-b111-4f91-9a0b-9e82aa7631b9',\n",
    "}\n",
    "\n",
    "session = Session()\n",
    "session.headers.update(headers)\n",
    "\n",
    "try:\n",
    "  response = session.get(url, params=parameters)\n",
    "  data = json.loads(response.text)\n",
    "  #print(data)\n",
    "except (ConnectionError, Timeout, TooManyRedirects) as e:\n",
    "  print(e)\n",
    "\n",
    "#NOTE:\n",
    "# Into the Anaconda Prompt to change this to allow to pull data\n",
    "# I had to go in and put \"jupyter notebook --NotebookApp.iopub_data_rate_limit=1e10\"\n",
    "    \n",
    "# If that didn't work try using the local host URL from prompt"
   ]
  },
  {
   "cell_type": "code",
   "execution_count": 37,
   "id": "01215ea2-a2e0-43db-9d4a-1e09f3e2f4ac",
   "metadata": {},
   "outputs": [
    {
     "data": {
      "text/plain": [
       "dict"
      ]
     },
     "execution_count": 37,
     "metadata": {},
     "output_type": "execute_result"
    }
   ],
   "source": [
    "type(data)"
   ]
  },
  {
   "cell_type": "code",
   "execution_count": 62,
   "id": "1e6b607f-91e1-47c3-aba9-0b5165421b73",
   "metadata": {},
   "outputs": [],
   "source": [
    "import pandas as pd \n",
    "\n",
    "#This allows you to see all the columns, not just like 15\n",
    "pd.set_option('display.max_columns', None)\n",
    "pd.set_option('display.max_rows', None)"
   ]
  },
  {
   "cell_type": "code",
   "execution_count": null,
   "id": "4530903f-c1ed-4a10-a2bc-a5906ef35f6e",
   "metadata": {},
   "outputs": [],
   "source": [
    "#This normalizes the data and makes it all pretty in a dataframe\n",
    "\n",
    "df = pd.json_normalize(data['data'])\n",
    "df['timestamp'] = pd.to_datetime('now')\n",
    "df"
   ]
  },
  {
   "cell_type": "code",
   "execution_count": 66,
   "id": "d642b202-0820-4c57-be1b-77c4df013d23",
   "metadata": {},
   "outputs": [],
   "source": [
    "\n",
    "def api_runner():\n",
    "    global df\n",
    "    url = 'https://pro-api.coinmarketcap.com/v1/cryptocurrency/listings/latest'\n",
    "    # Original Sandbox Environment: 'https://sandbox-api.coinmarketcap.com/v1/cryptocurrency/listings/latest'\n",
    "    parameters = {\n",
    "      'start':'1',\n",
    "      'limit':'15',\n",
    "      'convert':'USD'\n",
    "    }\n",
    "    headers = {\n",
    "      'Accepts': 'application/json',\n",
    "      'X-CMC_PRO_API_KEY': 'e4c4dda8-b111-4f91-9a0b-9e82aa7631b9',\n",
    "    }\n",
    "    \n",
    "    session = Session()\n",
    "    session.headers.update(headers)\n",
    "    \n",
    "    try:\n",
    "      response = session.get(url, params=parameters)\n",
    "      data = json.loads(response.text)\n",
    "      #print(data)\n",
    "    except (ConnectionError, Timeout, TooManyRedirects) as e:\n",
    "      print(e)\n",
    "    \n",
    "#NOTE:\n",
    "# Into the Anaconda Prompt to change this to allow to pull data\n",
    "# I had to go in and put \"jupyter notebook --NotebookApp.iopub_data_rate_limit=1e10\"\n",
    "\n",
    "    df2 = pd.json_normalize(data['data'])\n",
    "    df2['timestamp'] = pd.to_datetime('now')\n",
    "    #df_append = pd.DataFrame(df2)\n",
    "    #df = pd.concat([df,df_append])\n",
    "    df\n",
    "\n",
    "    # Use this to create a csv and append data to it\n",
    "    if not os.path.isfile(r'C:\\Users\\rumma\\CODES\\API.csv'):\n",
    "        df.to_csv(r'C:\\Users\\rumma\\CODES\\API.csv', header='column_name')\n",
    "    else:\n",
    "        df.to_csv(r'C:\\Users\\rumma\\CODES\\API.csv', mode='a', header= False)\n",
    "\n",
    "# If that didn't work try using the local host URL from prompt"
   ]
  },
  {
   "cell_type": "code",
   "execution_count": 68,
   "id": "f84e71f6-e6c4-4095-9df8-acfa08b5e43e",
   "metadata": {},
   "outputs": [
    {
     "name": "stdout",
     "output_type": "stream",
     "text": [
      "API Runner completed\n",
      "API Runner completed\n",
      "API Runner completed\n",
      "API Runner completed\n",
      "API Runner completed\n"
     ]
    },
    {
     "ename": "KeyboardInterrupt",
     "evalue": "",
     "output_type": "error",
     "traceback": [
      "\u001b[1;31m---------------------------------------------------------------------------\u001b[0m",
      "\u001b[1;31mKeyboardInterrupt\u001b[0m                         Traceback (most recent call last)",
      "Cell \u001b[1;32mIn[68], line 8\u001b[0m\n\u001b[0;32m      6\u001b[0m     api_runner()\n\u001b[0;32m      7\u001b[0m     \u001b[38;5;28mprint\u001b[39m(\u001b[38;5;124m'\u001b[39m\u001b[38;5;124mAPI Runner completed\u001b[39m\u001b[38;5;124m'\u001b[39m)\n\u001b[1;32m----> 8\u001b[0m     sleep(\u001b[38;5;241m30\u001b[39m) \u001b[38;5;66;03m#sleep for 1 minute\u001b[39;00m\n\u001b[0;32m      9\u001b[0m exit()\n",
      "\u001b[1;31mKeyboardInterrupt\u001b[0m: "
     ]
    }
   ],
   "source": [
    "import os \n",
    "from time import time\n",
    "from time import sleep\n",
    "\n",
    "for i in range(333):\n",
    "    api_runner()\n",
    "    print('API Runner completed')\n",
    "    sleep(30) #sleep for 1 minute\n",
    "exit()"
   ]
  },
  {
   "cell_type": "code",
   "execution_count": null,
   "id": "4080ebdf-3a03-4138-94c2-cd8bd4b571f1",
   "metadata": {},
   "outputs": [],
   "source": [
    "df = pd.read_csv(r'C:\\Users\\rumma\\CODES\\API.csv')\n",
    "df"
   ]
  },
  {
   "cell_type": "code",
   "execution_count": 124,
   "id": "c02fa291-eeab-4910-ba9b-fa3fdd251c7b",
   "metadata": {},
   "outputs": [],
   "source": [
    "# One thing I noticed was the scientific notation. I like it, but I want to be able to see the numbers in this case\n",
    "\n",
    "pd.set_option('display.float_format', lambda x: '%.5f' % x)"
   ]
  },
  {
   "cell_type": "code",
   "execution_count": null,
   "id": "bd5ee8cd-99d1-4d93-abe5-cc25036ba0fb",
   "metadata": {},
   "outputs": [],
   "source": [
    "df"
   ]
  },
  {
   "cell_type": "code",
   "execution_count": 126,
   "id": "10624575-caa0-4f78-b80e-a9efb8561e7c",
   "metadata": {},
   "outputs": [
    {
     "data": {
      "text/html": [
       "<div>\n",
       "<style scoped>\n",
       "    .dataframe tbody tr th:only-of-type {\n",
       "        vertical-align: middle;\n",
       "    }\n",
       "\n",
       "    .dataframe tbody tr th {\n",
       "        vertical-align: top;\n",
       "    }\n",
       "\n",
       "    .dataframe thead th {\n",
       "        text-align: right;\n",
       "    }\n",
       "</style>\n",
       "<table border=\"1\" class=\"dataframe\">\n",
       "  <thead>\n",
       "    <tr style=\"text-align: right;\">\n",
       "      <th></th>\n",
       "      <th>quote.USD.percent_change_1h</th>\n",
       "      <th>quote.USD.percent_change_24h</th>\n",
       "      <th>quote.USD.percent_change_7d</th>\n",
       "      <th>quote.USD.percent_change_30d</th>\n",
       "      <th>quote.USD.percent_change_60d</th>\n",
       "      <th>quote.USD.percent_change_90d</th>\n",
       "    </tr>\n",
       "    <tr>\n",
       "      <th>name</th>\n",
       "      <th></th>\n",
       "      <th></th>\n",
       "      <th></th>\n",
       "      <th></th>\n",
       "      <th></th>\n",
       "      <th></th>\n",
       "    </tr>\n",
       "  </thead>\n",
       "  <tbody>\n",
       "    <tr>\n",
       "      <th>Bitcoin</th>\n",
       "      <td>0.07460</td>\n",
       "      <td>1.16574</td>\n",
       "      <td>-2.44419</td>\n",
       "      <td>3.37064</td>\n",
       "      <td>-3.86386</td>\n",
       "      <td>10.02874</td>\n",
       "    </tr>\n",
       "    <tr>\n",
       "      <th>Ethereum</th>\n",
       "      <td>0.32070</td>\n",
       "      <td>1.62258</td>\n",
       "      <td>-1.73409</td>\n",
       "      <td>-18.01358</td>\n",
       "      <td>-31.79558</td>\n",
       "      <td>-18.19436</td>\n",
       "    </tr>\n",
       "    <tr>\n",
       "      <th>Tether USDt</th>\n",
       "      <td>-0.00564</td>\n",
       "      <td>0.00247</td>\n",
       "      <td>-0.13822</td>\n",
       "      <td>0.07325</td>\n",
       "      <td>0.00485</td>\n",
       "      <td>-0.11622</td>\n",
       "    </tr>\n",
       "    <tr>\n",
       "      <th>XRP</th>\n",
       "      <td>0.00033</td>\n",
       "      <td>0.71271</td>\n",
       "      <td>-9.08000</td>\n",
       "      <td>-2.16286</td>\n",
       "      <td>0.60936</td>\n",
       "      <td>251.09676</td>\n",
       "    </tr>\n",
       "    <tr>\n",
       "      <th>Solana</th>\n",
       "      <td>-0.28669</td>\n",
       "      <td>1.42440</td>\n",
       "      <td>-3.49724</td>\n",
       "      <td>8.52377</td>\n",
       "      <td>-12.56605</td>\n",
       "      <td>-4.92829</td>\n",
       "    </tr>\n",
       "    <tr>\n",
       "      <th>BNB</th>\n",
       "      <td>0.13190</td>\n",
       "      <td>-1.77176</td>\n",
       "      <td>2.28228</td>\n",
       "      <td>-12.01884</td>\n",
       "      <td>-14.68310</td>\n",
       "      <td>-2.90651</td>\n",
       "    </tr>\n",
       "    <tr>\n",
       "      <th>USDC</th>\n",
       "      <td>-0.00689</td>\n",
       "      <td>-0.00488</td>\n",
       "      <td>-0.01046</td>\n",
       "      <td>0.00660</td>\n",
       "      <td>0.01736</td>\n",
       "      <td>0.00774</td>\n",
       "    </tr>\n",
       "    <tr>\n",
       "      <th>Dogecoin</th>\n",
       "      <td>0.23506</td>\n",
       "      <td>0.90070</td>\n",
       "      <td>-6.90606</td>\n",
       "      <td>-24.22772</td>\n",
       "      <td>-38.61262</td>\n",
       "      <td>-35.09078</td>\n",
       "    </tr>\n",
       "    <tr>\n",
       "      <th>Cardano</th>\n",
       "      <td>0.22963</td>\n",
       "      <td>2.16877</td>\n",
       "      <td>-9.66977</td>\n",
       "      <td>-25.56416</td>\n",
       "      <td>-38.54667</td>\n",
       "      <td>21.87748</td>\n",
       "    </tr>\n",
       "    <tr>\n",
       "      <th>TRON</th>\n",
       "      <td>0.47308</td>\n",
       "      <td>2.36840</td>\n",
       "      <td>6.62269</td>\n",
       "      <td>0.52172</td>\n",
       "      <td>-21.19658</td>\n",
       "      <td>31.53093</td>\n",
       "    </tr>\n",
       "    <tr>\n",
       "      <th>Chainlink</th>\n",
       "      <td>0.33796</td>\n",
       "      <td>0.91918</td>\n",
       "      <td>-9.17747</td>\n",
       "      <td>-5.58519</td>\n",
       "      <td>-32.90033</td>\n",
       "      <td>32.98573</td>\n",
       "    </tr>\n",
       "    <tr>\n",
       "      <th>Avalanche</th>\n",
       "      <td>-0.09226</td>\n",
       "      <td>2.54851</td>\n",
       "      <td>-6.90669</td>\n",
       "      <td>-29.84182</td>\n",
       "      <td>-52.90300</td>\n",
       "      <td>-25.59989</td>\n",
       "    </tr>\n",
       "    <tr>\n",
       "      <th>Sui</th>\n",
       "      <td>0.37073</td>\n",
       "      <td>7.05350</td>\n",
       "      <td>-8.17969</td>\n",
       "      <td>-33.46557</td>\n",
       "      <td>-29.71967</td>\n",
       "      <td>4.73029</td>\n",
       "    </tr>\n",
       "    <tr>\n",
       "      <th>Stellar</th>\n",
       "      <td>-0.27859</td>\n",
       "      <td>-1.12324</td>\n",
       "      <td>-11.90835</td>\n",
       "      <td>-26.85417</td>\n",
       "      <td>-27.60572</td>\n",
       "      <td>151.87870</td>\n",
       "    </tr>\n",
       "    <tr>\n",
       "      <th>Toncoin</th>\n",
       "      <td>0.02752</td>\n",
       "      <td>0.02646</td>\n",
       "      <td>-4.85188</td>\n",
       "      <td>-29.68933</td>\n",
       "      <td>-40.60112</td>\n",
       "      <td>-28.77351</td>\n",
       "    </tr>\n",
       "  </tbody>\n",
       "</table>\n",
       "</div>"
      ],
      "text/plain": [
       "             quote.USD.percent_change_1h  quote.USD.percent_change_24h  \\\n",
       "name                                                                     \n",
       "Bitcoin                          0.07460                       1.16574   \n",
       "Ethereum                         0.32070                       1.62258   \n",
       "Tether USDt                     -0.00564                       0.00247   \n",
       "XRP                              0.00033                       0.71271   \n",
       "Solana                          -0.28669                       1.42440   \n",
       "BNB                              0.13190                      -1.77176   \n",
       "USDC                            -0.00689                      -0.00488   \n",
       "Dogecoin                         0.23506                       0.90070   \n",
       "Cardano                          0.22963                       2.16877   \n",
       "TRON                             0.47308                       2.36840   \n",
       "Chainlink                        0.33796                       0.91918   \n",
       "Avalanche                       -0.09226                       2.54851   \n",
       "Sui                              0.37073                       7.05350   \n",
       "Stellar                         -0.27859                      -1.12324   \n",
       "Toncoin                          0.02752                       0.02646   \n",
       "\n",
       "             quote.USD.percent_change_7d  quote.USD.percent_change_30d  \\\n",
       "name                                                                     \n",
       "Bitcoin                         -2.44419                       3.37064   \n",
       "Ethereum                        -1.73409                     -18.01358   \n",
       "Tether USDt                     -0.13822                       0.07325   \n",
       "XRP                             -9.08000                      -2.16286   \n",
       "Solana                          -3.49724                       8.52377   \n",
       "BNB                              2.28228                     -12.01884   \n",
       "USDC                            -0.01046                       0.00660   \n",
       "Dogecoin                        -6.90606                     -24.22772   \n",
       "Cardano                         -9.66977                     -25.56416   \n",
       "TRON                             6.62269                       0.52172   \n",
       "Chainlink                       -9.17747                      -5.58519   \n",
       "Avalanche                       -6.90669                     -29.84182   \n",
       "Sui                             -8.17969                     -33.46557   \n",
       "Stellar                        -11.90835                     -26.85417   \n",
       "Toncoin                         -4.85188                     -29.68933   \n",
       "\n",
       "             quote.USD.percent_change_60d  quote.USD.percent_change_90d  \n",
       "name                                                                     \n",
       "Bitcoin                          -3.86386                      10.02874  \n",
       "Ethereum                        -31.79558                     -18.19436  \n",
       "Tether USDt                       0.00485                      -0.11622  \n",
       "XRP                               0.60936                     251.09676  \n",
       "Solana                          -12.56605                      -4.92829  \n",
       "BNB                             -14.68310                      -2.90651  \n",
       "USDC                              0.01736                       0.00774  \n",
       "Dogecoin                        -38.61262                     -35.09078  \n",
       "Cardano                         -38.54667                      21.87748  \n",
       "TRON                            -21.19658                      31.53093  \n",
       "Chainlink                       -32.90033                      32.98573  \n",
       "Avalanche                       -52.90300                     -25.59989  \n",
       "Sui                             -29.71967                       4.73029  \n",
       "Stellar                         -27.60572                     151.87870  \n",
       "Toncoin                         -40.60112                     -28.77351  "
      ]
     },
     "execution_count": 126,
     "metadata": {},
     "output_type": "execute_result"
    }
   ],
   "source": [
    "df1 = df.groupby('name', sort=False)[['quote.USD.percent_change_1h','quote.USD.percent_change_24h','quote.USD.percent_change_7d','quote.USD.percent_change_30d','quote.USD.percent_change_60d','quote.USD.percent_change_90d']].mean()\n",
    "df1"
   ]
  },
  {
   "cell_type": "code",
   "execution_count": null,
   "id": "20a0a137-45ef-4133-bd03-9b565d21ed2b",
   "metadata": {},
   "outputs": [],
   "source": [
    "df2= df1.stack()\n",
    "df2"
   ]
  },
  {
   "cell_type": "code",
   "execution_count": 88,
   "id": "c3addd99-a2d7-4d70-b539-b12c62407257",
   "metadata": {},
   "outputs": [
    {
     "data": {
      "text/plain": [
       "pandas.core.series.Series"
      ]
     },
     "execution_count": 88,
     "metadata": {},
     "output_type": "execute_result"
    }
   ],
   "source": [
    "type(df2)"
   ]
  },
  {
   "cell_type": "code",
   "execution_count": null,
   "id": "97a08086-2ceb-4aa4-a573-a47b86b28ddb",
   "metadata": {},
   "outputs": [],
   "source": [
    "df3 = df2.to_frame(name='values')\n",
    "df3"
   ]
  },
  {
   "cell_type": "code",
   "execution_count": 106,
   "id": "966dcf2a-a986-4b03-b509-de7921e7c40a",
   "metadata": {},
   "outputs": [
    {
     "data": {
      "text/plain": [
       "values    90\n",
       "dtype: int64"
      ]
     },
     "execution_count": 106,
     "metadata": {},
     "output_type": "execute_result"
    }
   ],
   "source": [
    "df3.count()"
   ]
  },
  {
   "cell_type": "code",
   "execution_count": null,
   "id": "b20cde1e-1e09-48d8-b4aa-319337e66417",
   "metadata": {},
   "outputs": [],
   "source": [
    "#Because of how it's structured above we need to set an index. I don't want to pass a column as an index for this dataframe\n",
    "#So I'm going to create a range and pass that as the dataframe. Can make this more dynamic, but I'm just going to hard code it\n",
    "\n",
    "index = pd.Index(range(90))\n",
    "\n",
    "df4 = df3.reset_index()\n",
    "df4"
   ]
  },
  {
   "cell_type": "code",
   "execution_count": null,
   "id": "9f057e57-7a31-4e3a-aaae-f388b064f381",
   "metadata": {},
   "outputs": [],
   "source": [
    "# Change the column name\n",
    "\n",
    "df5 = df4.rename(columns={'level_1': 'percent_change'})\n",
    "df5"
   ]
  },
  {
   "cell_type": "code",
   "execution_count": null,
   "id": "7e58b99a-d5c3-461a-bff0-eabbb7a9a63a",
   "metadata": {},
   "outputs": [],
   "source": [
    "df5['percent_change'] = df5['percent_change'].replace(['quote.USD.percent_change_1h','quote.USD.percent_change_24h','quote.USD.percent_change_7d','quote.USD.percent_change_30d','quote.USD.percent_change_60d','quote.USD.percent_change_90d'],['1h','24h','7d','30d','60d','90d'])\n",
    "df5"
   ]
  },
  {
   "cell_type": "code",
   "execution_count": 112,
   "id": "29be1161-a717-4d16-a082-3153203d2608",
   "metadata": {},
   "outputs": [],
   "source": [
    "# Visualization\n",
    "\n",
    "import seaborn as sns\n",
    "import matplotlib.pyplot as plt"
   ]
  },
  {
   "cell_type": "code",
   "execution_count": 120,
   "id": "21b96f42-b0cc-402f-93dc-6c53b507a8d3",
   "metadata": {},
   "outputs": [
    {
     "data": {
      "text/plain": [
       "<seaborn.axisgrid.FacetGrid at 0x1d8f5486810>"
      ]
     },
     "execution_count": 120,
     "metadata": {},
     "output_type": "execute_result"
    },
    {
     "data": {
      "image/png": "[encoded data removed]",
      "text/plain": [
       "<Figure size 632.875x500 with 1 Axes>"
      ]
     },
     "metadata": {},
     "output_type": "display_data"
    }
   ],
   "source": [
    "sns.catplot(x='percent_change', y='values', hue='name', data=df5, kind='point')"
   ]
  },
  {
   "cell_type": "code",
   "execution_count": 144,
   "id": "aeff6054-6d4c-4707-b436-19a2793aba6f",
   "metadata": {},
   "outputs": [
    {
     "data": {
      "text/html": [
       "<div>\n",
       "<style scoped>\n",
       "    .dataframe tbody tr th:only-of-type {\n",
       "        vertical-align: middle;\n",
       "    }\n",
       "\n",
       "    .dataframe tbody tr th {\n",
       "        vertical-align: top;\n",
       "    }\n",
       "\n",
       "    .dataframe thead th {\n",
       "        text-align: right;\n",
       "    }\n",
       "</style>\n",
       "<table border=\"1\" class=\"dataframe\">\n",
       "  <thead>\n",
       "    <tr style=\"text-align: right;\">\n",
       "      <th></th>\n",
       "      <th>name</th>\n",
       "      <th>quote.USD.price</th>\n",
       "      <th>timestamp</th>\n",
       "    </tr>\n",
       "  </thead>\n",
       "  <tbody>\n",
       "    <tr>\n",
       "      <th>0</th>\n",
       "      <td>Bitcoin</td>\n",
       "      <td>97283.76276</td>\n",
       "      <td>2025-02-11 00:24:39.995241</td>\n",
       "    </tr>\n",
       "    <tr>\n",
       "      <th>15</th>\n",
       "      <td>Bitcoin</td>\n",
       "      <td>97291.05577</td>\n",
       "      <td>2025-02-11 00:42:10.434529</td>\n",
       "    </tr>\n",
       "    <tr>\n",
       "      <th>30</th>\n",
       "      <td>Bitcoin</td>\n",
       "      <td>97306.67371</td>\n",
       "      <td>2025-02-11 00:42:41.301781</td>\n",
       "    </tr>\n",
       "    <tr>\n",
       "      <th>45</th>\n",
       "      <td>Bitcoin</td>\n",
       "      <td>97306.67371</td>\n",
       "      <td>2025-02-11 00:43:12.407805</td>\n",
       "    </tr>\n",
       "    <tr>\n",
       "      <th>60</th>\n",
       "      <td>Bitcoin</td>\n",
       "      <td>97306.67371</td>\n",
       "      <td>2025-02-11 00:43:43.396918</td>\n",
       "    </tr>\n",
       "    <tr>\n",
       "      <th>75</th>\n",
       "      <td>Bitcoin</td>\n",
       "      <td>97306.67371</td>\n",
       "      <td>2025-02-11 00:44:14.380019</td>\n",
       "    </tr>\n",
       "    <tr>\n",
       "      <th>90</th>\n",
       "      <td>Bitcoin</td>\n",
       "      <td>97283.76276</td>\n",
       "      <td>2025-02-11 00:24:39.995241</td>\n",
       "    </tr>\n",
       "    <tr>\n",
       "      <th>105</th>\n",
       "      <td>Bitcoin</td>\n",
       "      <td>97291.05577</td>\n",
       "      <td>2025-02-11 00:42:10.434529</td>\n",
       "    </tr>\n",
       "    <tr>\n",
       "      <th>120</th>\n",
       "      <td>Bitcoin</td>\n",
       "      <td>97306.67371</td>\n",
       "      <td>2025-02-11 00:42:41.301781</td>\n",
       "    </tr>\n",
       "    <tr>\n",
       "      <th>135</th>\n",
       "      <td>Bitcoin</td>\n",
       "      <td>97306.67371</td>\n",
       "      <td>2025-02-11 00:43:12.407805</td>\n",
       "    </tr>\n",
       "    <tr>\n",
       "      <th>150</th>\n",
       "      <td>Bitcoin</td>\n",
       "      <td>97306.67371</td>\n",
       "      <td>2025-02-11 00:43:43.396918</td>\n",
       "    </tr>\n",
       "    <tr>\n",
       "      <th>165</th>\n",
       "      <td>Bitcoin</td>\n",
       "      <td>97306.67371</td>\n",
       "      <td>2025-02-11 00:44:14.380019</td>\n",
       "    </tr>\n",
       "    <tr>\n",
       "      <th>180</th>\n",
       "      <td>Bitcoin</td>\n",
       "      <td>97283.76276</td>\n",
       "      <td>2025-02-11 00:24:39.995241</td>\n",
       "    </tr>\n",
       "    <tr>\n",
       "      <th>195</th>\n",
       "      <td>Bitcoin</td>\n",
       "      <td>97291.05577</td>\n",
       "      <td>2025-02-11 00:42:10.434529</td>\n",
       "    </tr>\n",
       "    <tr>\n",
       "      <th>210</th>\n",
       "      <td>Bitcoin</td>\n",
       "      <td>97306.67371</td>\n",
       "      <td>2025-02-11 00:42:41.301781</td>\n",
       "    </tr>\n",
       "    <tr>\n",
       "      <th>225</th>\n",
       "      <td>Bitcoin</td>\n",
       "      <td>97306.67371</td>\n",
       "      <td>2025-02-11 00:43:12.407805</td>\n",
       "    </tr>\n",
       "    <tr>\n",
       "      <th>240</th>\n",
       "      <td>Bitcoin</td>\n",
       "      <td>97306.67371</td>\n",
       "      <td>2025-02-11 00:43:43.396918</td>\n",
       "    </tr>\n",
       "    <tr>\n",
       "      <th>255</th>\n",
       "      <td>Bitcoin</td>\n",
       "      <td>97306.67371</td>\n",
       "      <td>2025-02-11 00:44:14.380019</td>\n",
       "    </tr>\n",
       "    <tr>\n",
       "      <th>270</th>\n",
       "      <td>Bitcoin</td>\n",
       "      <td>97283.76276</td>\n",
       "      <td>2025-02-11 00:24:39.995241</td>\n",
       "    </tr>\n",
       "    <tr>\n",
       "      <th>285</th>\n",
       "      <td>Bitcoin</td>\n",
       "      <td>97291.05577</td>\n",
       "      <td>2025-02-11 00:42:10.434529</td>\n",
       "    </tr>\n",
       "    <tr>\n",
       "      <th>300</th>\n",
       "      <td>Bitcoin</td>\n",
       "      <td>97306.67371</td>\n",
       "      <td>2025-02-11 00:42:41.301781</td>\n",
       "    </tr>\n",
       "    <tr>\n",
       "      <th>315</th>\n",
       "      <td>Bitcoin</td>\n",
       "      <td>97306.67371</td>\n",
       "      <td>2025-02-11 00:43:12.407805</td>\n",
       "    </tr>\n",
       "    <tr>\n",
       "      <th>330</th>\n",
       "      <td>Bitcoin</td>\n",
       "      <td>97306.67371</td>\n",
       "      <td>2025-02-11 00:43:43.396918</td>\n",
       "    </tr>\n",
       "    <tr>\n",
       "      <th>345</th>\n",
       "      <td>Bitcoin</td>\n",
       "      <td>97306.67371</td>\n",
       "      <td>2025-02-11 00:44:14.380019</td>\n",
       "    </tr>\n",
       "    <tr>\n",
       "      <th>360</th>\n",
       "      <td>Bitcoin</td>\n",
       "      <td>97283.76276</td>\n",
       "      <td>2025-02-11 00:24:39.995241</td>\n",
       "    </tr>\n",
       "    <tr>\n",
       "      <th>375</th>\n",
       "      <td>Bitcoin</td>\n",
       "      <td>97291.05577</td>\n",
       "      <td>2025-02-11 00:42:10.434529</td>\n",
       "    </tr>\n",
       "    <tr>\n",
       "      <th>390</th>\n",
       "      <td>Bitcoin</td>\n",
       "      <td>97306.67371</td>\n",
       "      <td>2025-02-11 00:42:41.301781</td>\n",
       "    </tr>\n",
       "    <tr>\n",
       "      <th>405</th>\n",
       "      <td>Bitcoin</td>\n",
       "      <td>97306.67371</td>\n",
       "      <td>2025-02-11 00:43:12.407805</td>\n",
       "    </tr>\n",
       "    <tr>\n",
       "      <th>420</th>\n",
       "      <td>Bitcoin</td>\n",
       "      <td>97306.67371</td>\n",
       "      <td>2025-02-11 00:43:43.396918</td>\n",
       "    </tr>\n",
       "    <tr>\n",
       "      <th>435</th>\n",
       "      <td>Bitcoin</td>\n",
       "      <td>97306.67371</td>\n",
       "      <td>2025-02-11 00:44:14.380019</td>\n",
       "    </tr>\n",
       "  </tbody>\n",
       "</table>\n",
       "</div>"
      ],
      "text/plain": [
       "        name  quote.USD.price                   timestamp\n",
       "0    Bitcoin      97283.76276  2025-02-11 00:24:39.995241\n",
       "15   Bitcoin      97291.05577  2025-02-11 00:42:10.434529\n",
       "30   Bitcoin      97306.67371  2025-02-11 00:42:41.301781\n",
       "45   Bitcoin      97306.67371  2025-02-11 00:43:12.407805\n",
       "60   Bitcoin      97306.67371  2025-02-11 00:43:43.396918\n",
       "75   Bitcoin      97306.67371  2025-02-11 00:44:14.380019\n",
       "90   Bitcoin      97283.76276  2025-02-11 00:24:39.995241\n",
       "105  Bitcoin      97291.05577  2025-02-11 00:42:10.434529\n",
       "120  Bitcoin      97306.67371  2025-02-11 00:42:41.301781\n",
       "135  Bitcoin      97306.67371  2025-02-11 00:43:12.407805\n",
       "150  Bitcoin      97306.67371  2025-02-11 00:43:43.396918\n",
       "165  Bitcoin      97306.67371  2025-02-11 00:44:14.380019\n",
       "180  Bitcoin      97283.76276  2025-02-11 00:24:39.995241\n",
       "195  Bitcoin      97291.05577  2025-02-11 00:42:10.434529\n",
       "210  Bitcoin      97306.67371  2025-02-11 00:42:41.301781\n",
       "225  Bitcoin      97306.67371  2025-02-11 00:43:12.407805\n",
       "240  Bitcoin      97306.67371  2025-02-11 00:43:43.396918\n",
       "255  Bitcoin      97306.67371  2025-02-11 00:44:14.380019\n",
       "270  Bitcoin      97283.76276  2025-02-11 00:24:39.995241\n",
       "285  Bitcoin      97291.05577  2025-02-11 00:42:10.434529\n",
       "300  Bitcoin      97306.67371  2025-02-11 00:42:41.301781\n",
       "315  Bitcoin      97306.67371  2025-02-11 00:43:12.407805\n",
       "330  Bitcoin      97306.67371  2025-02-11 00:43:43.396918\n",
       "345  Bitcoin      97306.67371  2025-02-11 00:44:14.380019\n",
       "360  Bitcoin      97283.76276  2025-02-11 00:24:39.995241\n",
       "375  Bitcoin      97291.05577  2025-02-11 00:42:10.434529\n",
       "390  Bitcoin      97306.67371  2025-02-11 00:42:41.301781\n",
       "405  Bitcoin      97306.67371  2025-02-11 00:43:12.407805\n",
       "420  Bitcoin      97306.67371  2025-02-11 00:43:43.396918\n",
       "435  Bitcoin      97306.67371  2025-02-11 00:44:14.380019"
      ]
     },
     "execution_count": 144,
     "metadata": {},
     "output_type": "execute_result"
    }
   ],
   "source": [
    "# Now to do something much simpler\n",
    "# we are going to create a dataframe with the columns we want\n",
    "\n",
    "df6 = df[['name','quote.USD.price','timestamp']]\n",
    "df6 = df6.query(\"name == 'Bitcoin'\")\n",
    "df6"
   ]
  },
  {
   "cell_type": "code",
   "execution_count": 146,
   "id": "d6329aca-3fba-4243-a9fe-3f4f39bd1e73",
   "metadata": {},
   "outputs": [
    {
     "data": {
      "text/plain": [
       "name               30\n",
       "quote.USD.price    30\n",
       "timestamp          30\n",
       "dtype: int64"
      ]
     },
     "execution_count": 146,
     "metadata": {},
     "output_type": "execute_result"
    }
   ],
   "source": [
    "df6.count()"
   ]
  },
  {
   "cell_type": "code",
   "execution_count": 132,
   "id": "d1a6fae3-2649-412a-af0f-26fa83d608f5",
   "metadata": {},
   "outputs": [
    {
     "data": {
      "text/plain": [
       "<Axes: xlabel='timestamp', ylabel='quote.USD.price'>"
      ]
     },
     "execution_count": 132,
     "metadata": {},
     "output_type": "execute_result"
    },
    {
     "data": {
      "image/png": "[encoded data removed]",
      "text/plain": [
       "<Figure size 640x480 with 1 Axes>"
      ]
     },
     "metadata": {},
     "output_type": "display_data"
    }
   ],
   "source": [
    "sns.set_theme(style=\"darkgrid\")\n",
    "\n",
    "sns.lineplot(x='timestamp', y='quote.USD.price', data = df6)"
   ]
  },
  {
   "cell_type": "code",
   "execution_count": null,
   "id": "13d70be8-98e7-4632-a3c7-28de91ece617",
   "metadata": {},
   "outputs": [],
   "source": []
  }
 ],
 "metadata": {
  "kernelspec": {
   "display_name": "Python [conda env:base] *",
   "language": "python",
   "name": "conda-base-py"
  },
  "language_info": {
   "codemirror_mode": {
    "name": "ipython",
    "version": 3
   },
   "file_extension": ".py",
   "mimetype": "text/x-python",
   "name": "python",
   "nbconvert_exporter": "python",
   "pygments_lexer": "ipython3",
   "version": "3.12.7"
  }
 },
 "nbformat": 4,
 "nbformat_minor": 5
}
